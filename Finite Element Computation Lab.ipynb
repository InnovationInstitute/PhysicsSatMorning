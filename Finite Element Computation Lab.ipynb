{
 "cells": [
  {
   "cell_type": "markdown",
   "metadata": {},
   "source": [
    "# Finite Element Computation Lab\n",
    "\n",
    "* Serena Faruque\n",
    "* The Innovation Institute"
   ]
  },
  {
   "cell_type": "markdown",
   "metadata": {},
   "source": [
    "### Step 1: Install Libraries\n",
    "\n",
    "We're going to start by loading some libraries:\n",
    "\n",
    "* **numpy** The python library for scientific computation. You can find more information [here](http://www.numpy.org/).\n",
    "* **matplotlib** The python plotting library to accompany numpy. You can find more information [here](http://matplotlib.org/).\n",
    "\n",
    "The third line simply makes it easier to refer to certain plotting functions. The fourth makes matplotlib work with this highly convenient notebook."
   ]
  },
  {
   "cell_type": "code",
   "execution_count": 13,
   "metadata": {
    "collapsed": true
   },
   "outputs": [],
   "source": [
    "import numpy\n",
    "import matplotlib\n",
    "import matplotlib.pyplot as plt\n",
    "%matplotlib notebook"
   ]
  },
  {
   "cell_type": "markdown",
   "metadata": {},
   "source": [
    "### Step 2: Define variables\n",
    "\n",
    "We define some variables here. It's not very complicated to define a variable that's just a number.\n",
    "\n",
    "If you want to avoid making me crazy, please use comments, marked by a hashtag, to indicate the units and any other useful information.\n",
    "\n",
    "Please define some constants that you will need, to calculate the oscillation of Milli."
   ]
  },
  {
   "cell_type": "code",
   "execution_count": 14,
   "metadata": {
    "collapsed": false
   },
   "outputs": [
    {
     "data": {
      "text/plain": [
       "10.4"
      ]
     },
     "execution_count": 14,
     "metadata": {},
     "output_type": "execute_result"
    }
   ],
   "source": [
    "g = 9.8 #m/s^2 (gravitational constant)\n",
    "m = 0.045 #mg mass of Mili\n",
    "k = 10.4 #N/m spring constant of bungee cord\n",
    "timestep = 0.01 #s time step\n",
    "k"
   ]
  },
  {
   "cell_type": "markdown",
   "metadata": {},
   "source": [
    "**Arrays** are very useful when trying to organize numbers. They're simply groups of things.\n",
    "\n",
    "In particular, one-dimensional arrays (think about it as lists of numbers!) will be extremely helpful.\n",
    "\n",
    "Some in numpy functions that define arrays are:\n",
    "\n",
    "* **zeros** Defines an array of a given length comprising of all zeros. Has the syntax <pre>x = numpy.zeros(length)</pre>\n",
    "* **arange** Defines an array of numbers between start and stop, in increments of step. Has the syntax <pre>x = numpy.arange(start,stop,step)</pre>\n",
    "\n",
    "To refer to a certain element in an array, just put that index in brackets after the name of the array. Keep in mind that, in Python, the first index is zero. So we would have something like: <pre>x[0]</pre>\n",
    "\n",
    "Define some arrays that we might need. Please be careful that they are the same length."
   ]
  },
  {
   "cell_type": "code",
   "execution_count": 15,
   "metadata": {
    "collapsed": false
   },
   "outputs": [],
   "source": [
    "tm = numpy.arange(0,5,timestep)\n",
    "xm = numpy.zeros(tm.size)\n",
    "vm = numpy.zeros(tm.size)\n",
    "am = numpy.zeros(tm.size)\n",
    "Fm = numpy.zeros(tm.size)"
   ]
  },
  {
   "cell_type": "markdown",
   "metadata": {},
   "source": [
    "### Step 3: Calculations\n",
    "\n",
    "Simple mathematical operations are pretty intuitive in Python. You can do them with arrays, too.\n",
    "\n",
    "Try some out below."
   ]
  },
  {
   "cell_type": "code",
   "execution_count": 16,
   "metadata": {
    "collapsed": false
   },
   "outputs": [
    {
     "data": {
      "text/plain": [
       "9.8"
      ]
     },
     "execution_count": 16,
     "metadata": {},
     "output_type": "execute_result"
    }
   ],
   "source": [
    "1*g"
   ]
  },
  {
   "cell_type": "markdown",
   "metadata": {},
   "source": [
    "Use what we have learned to set some **initial conditions,** where and how fast Mili is moving at the beginning of the time period."
   ]
  },
  {
   "cell_type": "code",
   "execution_count": 17,
   "metadata": {
    "collapsed": false
   },
   "outputs": [],
   "source": [
    "xm[0] = 0\n",
    "vm[0] = 0\n",
    "am[0] = 0\n",
    "Fm[0] = 0"
   ]
  },
  {
   "cell_type": "markdown",
   "metadata": {},
   "source": [
    "Use what we learned to make a prediction for equations of motion"
   ]
  },
  {
   "cell_type": "code",
   "execution_count": 18,
   "metadata": {
    "collapsed": false
   },
   "outputs": [
    {
     "ename": "SyntaxError",
     "evalue": "invalid syntax (<ipython-input-18-5a9598abbaff>, line 1)",
     "output_type": "error",
     "traceback": [
      "\u001b[0;36m  File \u001b[0;32m\"<ipython-input-18-5a9598abbaff>\"\u001b[0;36m, line \u001b[0;32m1\u001b[0m\n\u001b[0;31m    x_predict =\u001b[0m\n\u001b[0m                ^\u001b[0m\n\u001b[0;31mSyntaxError\u001b[0m\u001b[0;31m:\u001b[0m invalid syntax\n"
     ]
    }
   ],
   "source": [
    "x_predict = "
   ]
  },
  {
   "cell_type": "markdown",
   "metadata": {},
   "source": [
    "Loops are useful if you need to keep on repeating a calculation, as we do. We're going to use a **for loop.** There's lots of other flow control tools, but for now let's use the code below."
   ]
  },
  {
   "cell_type": "code",
   "execution_count": null,
   "metadata": {
    "collapsed": false
   },
   "outputs": [],
   "source": [
    "for i in numpy.arange(1,tm.size,1):\n",
    "    Fm[i] = m*g\n",
    "    am[i] = Fm[i]/m\n",
    "    vm[i] = vm[i-1]+am[i]*timestep\n",
    "    xm[i] = xm[i-1]+vm[i]*timestep"
   ]
  },
  {
   "cell_type": "markdown",
   "metadata": {},
   "source": [
    "### Step 4: Graph our results\n",
    "\n",
    "As mentioned, matplotlib has some great graphing tools for us. We're going to start with a very simple plotting code. (These aren't 100% excellent coding practices, but let's start with baby steps.)\n",
    "\n",
    "Here's the plot for position versus time."
   ]
  },
  {
   "cell_type": "code",
   "execution_count": null,
   "metadata": {
    "collapsed": false
   },
   "outputs": [],
   "source": [
    "fig = plt.figure()\n",
    "\n",
    "axes = fig.add_axes([0.1, 0.1, 0.8, 0.8])\n",
    "axes.plot(tm, xm, 'r')\n",
    "\n",
    "axes.set_xlabel('Time (seconds)')\n",
    "axes.set_ylabel('Position (m)')\n",
    "axes.set_title('Position vs. Time');"
   ]
  }
 ],
 "metadata": {
  "kernelspec": {
   "display_name": "Python 3",
   "language": "python",
   "name": "python3"
  },
  "language_info": {
   "codemirror_mode": {
    "name": "ipython",
    "version": 3
   },
   "file_extension": ".py",
   "mimetype": "text/x-python",
   "name": "python",
   "nbconvert_exporter": "python",
   "pygments_lexer": "ipython3",
   "version": "3.6.0"
  }
 },
 "nbformat": 4,
 "nbformat_minor": 2
}
